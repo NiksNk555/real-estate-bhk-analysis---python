{
 "cells": [
  {
   "cell_type": "markdown",
   "id": "3c724489-ce38-4b60-a505-9e7506d761e3",
   "metadata": {},
   "source": [
    "# Importing Necessary Libraries"
   ]
  },
  {
   "cell_type": "code",
   "execution_count": 2,
   "id": "e1969304-b0bd-48a0-948b-ef723549f40e",
   "metadata": {},
   "outputs": [],
   "source": [
    "import numpy as np\n",
    "import pandas as pd\n",
    "from bs4 import BeautifulSoup\n",
    "import requests\n",
    "import time\n",
    "import re"
   ]
  },
  {
   "cell_type": "markdown",
   "id": "c43e3134-a87f-4cf5-a8fd-698f2f7898f9",
   "metadata": {},
   "source": [
    "# Extracting all details from the Websight"
   ]
  },
  {
   "cell_type": "code",
   "execution_count": 150,
   "id": "87b91022-51b9-4a0a-ac04-38eac175b6e4",
   "metadata": {},
   "outputs": [
    {
     "name": "stdout",
     "output_type": "stream",
     "text": [
      "200\n"
     ]
    }
   ],
   "source": [
    "import requests\n",
    "\n",
    "i = 1\n",
    "url = f'https://www.nestoria.in/maharashtra/property/sale/{i}'\n",
    "\n",
    "headers = {\n",
    "    \"User-Agent\": \"Mozilla/5.0 (Windows NT 10.0; Win64; x64) AppleWebKit/537.36 (KHTML, like Gecko) Chrome/139.0.0.0 Safari/537.36\"\n",
    "\n",
    "}\n",
    "\n",
    "response = requests.get(url, headers=headers)\n",
    "html_code = response.text\n",
    "\n",
    "print(response.status_code)  # 200 means OK\n"
   ]
  },
  {
   "cell_type": "code",
   "execution_count": 186,
   "id": "f7f7f54c-de1d-4ecf-80f8-3a650ac7f999",
   "metadata": {},
   "outputs": [],
   "source": [
    "Title = []\n",
    "Size = []\n",
    "Price_per_sq = []\n",
    "BHK = []\n",
    "Bathrooms = []\n",
    "PropertyType = []\n",
    "Price = []\n",
    "\n",
    "for i in range(1,250):\n",
    "    # step 1 : Identify the Url\n",
    "    url = f'https://www.nestoria.in/Maharashtra/property/sale/{i}'\n",
    "    headers = {\n",
    "    \"User-Agent\": \"Mozilla/5.0 (Windows NT 10.0; Win64; x64) AppleWebKit/537.36 (KHTML, like Gecko) Chrome/139.0.0.0 Safari/537.36\"\n",
    "\n",
    "}\n",
    "\n",
    "\n",
    "    # step 2 : Extract the HTML code\n",
    "    response = requests.get(url)\n",
    "    html_code = response.text\n",
    "\n",
    "    # step 3 : Parse the HTML code to BeautifulSoup object\n",
    "    soup = BeautifulSoup(html_code)\n",
    "\n",
    "    # Step 4 : Find HTML tags ad attributes - Done\n",
    "\n",
    "    #Step 5: Using Beautiful Soup object, extract the data from tags\n",
    "    # Title\n",
    "    title = soup.find_all('div', attrs={'class':'listing__title'})\n",
    "    for t in title:\n",
    "        Title.append(t.text)\n",
    "\n",
    "    # Size\n",
    "    size = soup.find_all('span', attrs={'class':'summary-item size'})\n",
    "    for s in size:\n",
    "        Size.append(s.text)\n",
    "\n",
    "    # price_per_sq\n",
    "    price_per_sq = soup.find_all('span', attrs={'class':'summary-item size-per'})\n",
    "    for p in price_per_sq:\n",
    "        Price_per_sq.append(p.text)\n",
    "\n",
    "    # BHK\n",
    "    bhk = soup.find_all('span', attrs={'class':'summary-item rooms'})\n",
    "    for b in bhk:\n",
    "        BHK.append(b.text)\n",
    "\n",
    "    # Bathrooms\n",
    "    bathrooms = soup.find_all('span', attrs={'class':'summary-item bathrooms'})\n",
    "    for b in bathrooms:\n",
    "        Bathrooms.append(b.text)\n",
    "\n",
    "    # propertyType\n",
    "    propertyType_tags = soup.find_all('span', attrs={'class':'summary-item propertyType'})\n",
    "    for p in propertyType_tags:\n",
    "        PropertyType.append(p.text)\n",
    "\n",
    "    # Price \n",
    "    price = soup.find_all('div', attrs={'class':'result__details__price price_click_origin'})\n",
    "    for p in price:\n",
    "        Price.append(p.text)"
   ]
  },
  {
   "cell_type": "markdown",
   "id": "7e01362b-1c66-4204-ba37-72c5660ff0e3",
   "metadata": {},
   "source": [
    "# Checking the length of all the columns"
   ]
  },
  {
   "cell_type": "code",
   "execution_count": 23,
   "id": "3f62ad7d-3cfc-4ba3-a56c-313e0318a5b8",
   "metadata": {},
   "outputs": [
    {
     "ename": "NameError",
     "evalue": "name 'Title' is not defined",
     "output_type": "error",
     "traceback": [
      "\u001b[1;31m---------------------------------------------------------------------------\u001b[0m",
      "\u001b[1;31mNameError\u001b[0m                                 Traceback (most recent call last)",
      "Cell \u001b[1;32mIn[23], line 1\u001b[0m\n\u001b[1;32m----> 1\u001b[0m \u001b[38;5;28mprint\u001b[39m(\u001b[38;5;124m'\u001b[39m\u001b[38;5;124mTitle =>\u001b[39m\u001b[38;5;124m'\u001b[39m,\u001b[38;5;28mlen\u001b[39m(Title))\n\u001b[0;32m      2\u001b[0m \u001b[38;5;28mprint\u001b[39m(\u001b[38;5;124m'\u001b[39m\u001b[38;5;124mSize =>\u001b[39m\u001b[38;5;124m'\u001b[39m,\u001b[38;5;28mlen\u001b[39m(Size))\n\u001b[0;32m      3\u001b[0m \u001b[38;5;28mprint\u001b[39m(\u001b[38;5;124m'\u001b[39m\u001b[38;5;124mPrice_per_sq =>\u001b[39m\u001b[38;5;124m'\u001b[39m,\u001b[38;5;28mlen\u001b[39m(Price_per_sq))\n",
      "\u001b[1;31mNameError\u001b[0m: name 'Title' is not defined"
     ]
    }
   ],
   "source": [
    "print('Title =>',len(Title))\n",
    "print('Size =>',len(Size))\n",
    "print('Price_per_sq =>',len(Price_per_sq))\n",
    "print('BHK =>',len(BHK))\n",
    "print('Bathrooms =>',len(Bathrooms))\n",
    "print('PropertyType =>',len(PropertyType))\n",
    "print('Price =>',len(Price))"
   ]
  },
  {
   "cell_type": "markdown",
   "id": "91f2575f-53ef-4ea1-8f29-3822dabe34b9",
   "metadata": {},
   "source": [
    "## Run From Here"
   ]
  },
  {
   "cell_type": "code",
   "execution_count": 22,
   "id": "91125335-9a9d-49e1-8809-c0bc942f2b43",
   "metadata": {},
   "outputs": [
    {
     "ename": "NameError",
     "evalue": "name 'Title' is not defined",
     "output_type": "error",
     "traceback": [
      "\u001b[1;31m---------------------------------------------------------------------------\u001b[0m",
      "\u001b[1;31mNameError\u001b[0m                                 Traceback (most recent call last)",
      "Cell \u001b[1;32mIn[22], line 6\u001b[0m\n\u001b[0;32m      2\u001b[0m \u001b[38;5;28;01mfrom\u001b[39;00m \u001b[38;5;21;01mitertools\u001b[39;00m \u001b[38;5;28;01mimport\u001b[39;00m zip_longest\n\u001b[0;32m      3\u001b[0m \u001b[38;5;28;01mimport\u001b[39;00m \u001b[38;5;21;01mnumpy\u001b[39;00m \u001b[38;5;28;01mas\u001b[39;00m \u001b[38;5;21;01mnp\u001b[39;00m\n\u001b[0;32m      5\u001b[0m df \u001b[38;5;241m=\u001b[39m pd\u001b[38;5;241m.\u001b[39mDataFrame(\u001b[38;5;28mlist\u001b[39m(zip_longest(\n\u001b[1;32m----> 6\u001b[0m     Title, Size, Price_per_sq, BHK, Bathrooms, PropertyType, Price,\n\u001b[0;32m      7\u001b[0m     fillvalue\u001b[38;5;241m=\u001b[39mnp\u001b[38;5;241m.\u001b[39mnan\n\u001b[0;32m      8\u001b[0m )), columns\u001b[38;5;241m=\u001b[39m[\u001b[38;5;124m\"\u001b[39m\u001b[38;5;124mAddress\u001b[39m\u001b[38;5;124m\"\u001b[39m, \u001b[38;5;124m\"\u001b[39m\u001b[38;5;124mSize/Square\u001b[39m\u001b[38;5;124m\"\u001b[39m, \u001b[38;5;124m\"\u001b[39m\u001b[38;5;124mPrice_per_sq\u001b[39m\u001b[38;5;124m\"\u001b[39m, \u001b[38;5;124m\"\u001b[39m\u001b[38;5;124mBHK\u001b[39m\u001b[38;5;124m\"\u001b[39m, \u001b[38;5;124m\"\u001b[39m\u001b[38;5;124mBathrooms\u001b[39m\u001b[38;5;124m\"\u001b[39m, \u001b[38;5;124m\"\u001b[39m\u001b[38;5;124mProperty_Type\u001b[39m\u001b[38;5;124m\"\u001b[39m, \u001b[38;5;124m\"\u001b[39m\u001b[38;5;124mPrice_in_cr\u001b[39m\u001b[38;5;124m\"\u001b[39m])\n\u001b[0;32m     10\u001b[0m df\n",
      "\u001b[1;31mNameError\u001b[0m: name 'Title' is not defined"
     ]
    }
   ],
   "source": [
    "import pandas as pd\n",
    "from itertools import zip_longest\n",
    "import numpy as np\n",
    "\n",
    "df = pd.DataFrame(list(zip_longest(\n",
    "    Title, Size, Price_per_sq, BHK, Bathrooms, PropertyType, Price,\n",
    "    fillvalue=np.nan\n",
    ")), columns=[\"Address\", \"Size/Square\", \"Price_per_sq\", \"BHK\", \"Bathrooms\", \"Property_Type\", \"Price_in_cr\"])\n",
    "\n",
    "df\n"
   ]
  },
  {
   "cell_type": "markdown",
   "id": "780dc05a-43c9-41ca-80d9-eb5683d38810",
   "metadata": {},
   "source": [
    "# Address"
   ]
  },
  {
   "cell_type": "code",
   "execution_count": 2,
   "id": "2a463dc3-688a-430c-a7e1-5e1aff693a94",
   "metadata": {},
   "outputs": [
    {
     "ename": "NameError",
     "evalue": "name 'df' is not defined",
     "output_type": "error",
     "traceback": [
      "\u001b[1;31m---------------------------------------------------------------------------\u001b[0m",
      "\u001b[1;31mNameError\u001b[0m                                 Traceback (most recent call last)",
      "Cell \u001b[1;32mIn[2], line 1\u001b[0m\n\u001b[1;32m----> 1\u001b[0m df[\u001b[38;5;124m'\u001b[39m\u001b[38;5;124mAddress\u001b[39m\u001b[38;5;124m'\u001b[39m] \u001b[38;5;241m=\u001b[39m df[\u001b[38;5;124m'\u001b[39m\u001b[38;5;124mAddress\u001b[39m\u001b[38;5;124m'\u001b[39m]\u001b[38;5;241m.\u001b[39mstr\u001b[38;5;241m.\u001b[39mreplace(\u001b[38;5;124m'\u001b[39m\u001b[38;5;130;01m\\n\u001b[39;00m\u001b[38;5;124m'\u001b[39m,\u001b[38;5;124m'\u001b[39m\u001b[38;5;124m'\u001b[39m)\n",
      "\u001b[1;31mNameError\u001b[0m: name 'df' is not defined"
     ]
    }
   ],
   "source": [
    "df['Address'] = df['Address'].str.replace('\\n','')"
   ]
  },
  {
   "cell_type": "markdown",
   "id": "1cd29116-0963-45fe-bb7d-06b7d66f9071",
   "metadata": {},
   "source": [
    "# Size/sq"
   ]
  },
  {
   "cell_type": "code",
   "execution_count": 3,
   "id": "a94814ac-bed5-4b75-b11a-7b48d70515ac",
   "metadata": {},
   "outputs": [
    {
     "ename": "NameError",
     "evalue": "name 'df' is not defined",
     "output_type": "error",
     "traceback": [
      "\u001b[1;31m---------------------------------------------------------------------------\u001b[0m",
      "\u001b[1;31mNameError\u001b[0m                                 Traceback (most recent call last)",
      "Cell \u001b[1;32mIn[3], line 1\u001b[0m\n\u001b[1;32m----> 1\u001b[0m df[\u001b[38;5;124m'\u001b[39m\u001b[38;5;124mSize/Square\u001b[39m\u001b[38;5;124m'\u001b[39m] \u001b[38;5;241m=\u001b[39m df[\u001b[38;5;124m'\u001b[39m\u001b[38;5;124mSize/Square\u001b[39m\u001b[38;5;124m'\u001b[39m]\u001b[38;5;241m.\u001b[39mstr\u001b[38;5;241m.\u001b[39mreplace(\u001b[38;5;124m'\u001b[39m\u001b[38;5;124msq.ft\u001b[39m\u001b[38;5;124m'\u001b[39m,\u001b[38;5;124m'\u001b[39m\u001b[38;5;124m'\u001b[39m)\u001b[38;5;241m.\u001b[39mstr\u001b[38;5;241m.\u001b[39mreplace(\u001b[38;5;124m'\u001b[39m\u001b[38;5;124m,\u001b[39m\u001b[38;5;124m'\u001b[39m,\u001b[38;5;124m'\u001b[39m\u001b[38;5;124m'\u001b[39m)\n",
      "\u001b[1;31mNameError\u001b[0m: name 'df' is not defined"
     ]
    }
   ],
   "source": [
    "df['Size/Square'] = df['Size/Square'].str.replace('sq.ft','').str.replace(',','')"
   ]
  },
  {
   "cell_type": "markdown",
   "id": "12c3aec3-8a57-4f9a-bc4f-10e64ccb10f7",
   "metadata": {},
   "source": [
    "# Price_per_sq"
   ]
  },
  {
   "cell_type": "code",
   "execution_count": 4,
   "id": "7e4d57fd-0a14-4a79-a142-ee8520ef2dca",
   "metadata": {},
   "outputs": [
    {
     "ename": "NameError",
     "evalue": "name 'df' is not defined",
     "output_type": "error",
     "traceback": [
      "\u001b[1;31m---------------------------------------------------------------------------\u001b[0m",
      "\u001b[1;31mNameError\u001b[0m                                 Traceback (most recent call last)",
      "Cell \u001b[1;32mIn[4], line 1\u001b[0m\n\u001b[1;32m----> 1\u001b[0m df[\u001b[38;5;124m'\u001b[39m\u001b[38;5;124mPrice_per_sq\u001b[39m\u001b[38;5;124m'\u001b[39m] \u001b[38;5;241m=\u001b[39m df[\u001b[38;5;124m'\u001b[39m\u001b[38;5;124mPrice_per_sq\u001b[39m\u001b[38;5;124m'\u001b[39m]\u001b[38;5;241m.\u001b[39mstr\u001b[38;5;241m.\u001b[39mreplace(\u001b[38;5;124m\"\u001b[39m\u001b[38;5;124m₹\u001b[39m\u001b[38;5;124m\"\u001b[39m,\u001b[38;5;124m\"\u001b[39m\u001b[38;5;124m\"\u001b[39m)\u001b[38;5;241m.\u001b[39mstr\u001b[38;5;241m.\u001b[39mreplace(\u001b[38;5;124m\"\u001b[39m\u001b[38;5;124m,\u001b[39m\u001b[38;5;124m\"\u001b[39m,\u001b[38;5;124m\"\u001b[39m\u001b[38;5;124m\"\u001b[39m)\u001b[38;5;241m.\u001b[39mstr\u001b[38;5;241m.\u001b[39mreplace(\u001b[38;5;124m\"\u001b[39m\u001b[38;5;124m/sq.ft\u001b[39m\u001b[38;5;124m\"\u001b[39m,\u001b[38;5;124m\"\u001b[39m\u001b[38;5;124m\"\u001b[39m)\n",
      "\u001b[1;31mNameError\u001b[0m: name 'df' is not defined"
     ]
    }
   ],
   "source": [
    "df['Price_per_sq'] = df['Price_per_sq'].str.replace(\"₹\",\"\").str.replace(\",\",\"\").str.replace(\"/sq.ft\",\"\")"
   ]
  },
  {
   "cell_type": "markdown",
   "id": "d0052585-7f2d-4f55-aad3-149a3ce95550",
   "metadata": {},
   "source": [
    "# BHK"
   ]
  },
  {
   "cell_type": "code",
   "execution_count": 5,
   "id": "eb73c7f5-0bc0-47e5-ae68-9983cdf8954b",
   "metadata": {},
   "outputs": [
    {
     "ename": "NameError",
     "evalue": "name 'df' is not defined",
     "output_type": "error",
     "traceback": [
      "\u001b[1;31m---------------------------------------------------------------------------\u001b[0m",
      "\u001b[1;31mNameError\u001b[0m                                 Traceback (most recent call last)",
      "Cell \u001b[1;32mIn[5], line 1\u001b[0m\n\u001b[1;32m----> 1\u001b[0m df[\u001b[38;5;124m'\u001b[39m\u001b[38;5;124mBHK\u001b[39m\u001b[38;5;124m'\u001b[39m] \u001b[38;5;241m=\u001b[39m df[\u001b[38;5;124m'\u001b[39m\u001b[38;5;124mBHK\u001b[39m\u001b[38;5;124m'\u001b[39m]\u001b[38;5;241m.\u001b[39mstr\u001b[38;5;241m.\u001b[39mreplace(\u001b[38;5;124m'\u001b[39m\u001b[38;5;124mBHK\u001b[39m\u001b[38;5;124m'\u001b[39m,\u001b[38;5;124m'\u001b[39m\u001b[38;5;124m'\u001b[39m)\n",
      "\u001b[1;31mNameError\u001b[0m: name 'df' is not defined"
     ]
    }
   ],
   "source": [
    "df['BHK'] = df['BHK'].str.replace('BHK','')"
   ]
  },
  {
   "cell_type": "markdown",
   "id": "941cc842-8583-4575-818b-3a6bdfc3e423",
   "metadata": {},
   "source": [
    "# Bathrooms"
   ]
  },
  {
   "cell_type": "code",
   "execution_count": 6,
   "id": "274082b8-9765-4482-82a2-abff49a2c286",
   "metadata": {},
   "outputs": [
    {
     "ename": "NameError",
     "evalue": "name 'df' is not defined",
     "output_type": "error",
     "traceback": [
      "\u001b[1;31m---------------------------------------------------------------------------\u001b[0m",
      "\u001b[1;31mNameError\u001b[0m                                 Traceback (most recent call last)",
      "Cell \u001b[1;32mIn[6], line 1\u001b[0m\n\u001b[1;32m----> 1\u001b[0m df[\u001b[38;5;124m'\u001b[39m\u001b[38;5;124mBathrooms\u001b[39m\u001b[38;5;124m'\u001b[39m] \u001b[38;5;241m=\u001b[39m df[\u001b[38;5;124m'\u001b[39m\u001b[38;5;124mBathrooms\u001b[39m\u001b[38;5;124m'\u001b[39m]\u001b[38;5;241m.\u001b[39mstr\u001b[38;5;241m.\u001b[39mreplace(\u001b[38;5;124m'\u001b[39m\u001b[38;5;124mBaths\u001b[39m\u001b[38;5;124m'\u001b[39m,\u001b[38;5;124m'\u001b[39m\u001b[38;5;124m'\u001b[39m)\u001b[38;5;241m.\u001b[39mstr\u001b[38;5;241m.\u001b[39mreplace(\u001b[38;5;124m'\u001b[39m\u001b[38;5;124mBath\u001b[39m\u001b[38;5;124m'\u001b[39m,\u001b[38;5;124m'\u001b[39m\u001b[38;5;124m'\u001b[39m)\n",
      "\u001b[1;31mNameError\u001b[0m: name 'df' is not defined"
     ]
    }
   ],
   "source": [
    "df['Bathrooms'] = df['Bathrooms'].str.replace('Baths','').str.replace('Bath','')"
   ]
  },
  {
   "cell_type": "markdown",
   "id": "2b6633d2-b768-4fff-baf5-2491ee47681c",
   "metadata": {},
   "source": [
    "# property_Type"
   ]
  },
  {
   "cell_type": "code",
   "execution_count": 7,
   "id": "ffcf7491-f9e8-46d7-b909-b0b06e324f0e",
   "metadata": {},
   "outputs": [
    {
     "ename": "NameError",
     "evalue": "name 'df' is not defined",
     "output_type": "error",
     "traceback": [
      "\u001b[1;31m---------------------------------------------------------------------------\u001b[0m",
      "\u001b[1;31mNameError\u001b[0m                                 Traceback (most recent call last)",
      "Cell \u001b[1;32mIn[7], line 1\u001b[0m\n\u001b[1;32m----> 1\u001b[0m df[\u001b[38;5;124m'\u001b[39m\u001b[38;5;124mProperty_Type\u001b[39m\u001b[38;5;124m'\u001b[39m] \u001b[38;5;241m=\u001b[39m df[\u001b[38;5;124m'\u001b[39m\u001b[38;5;124mProperty_Type\u001b[39m\u001b[38;5;124m'\u001b[39m]\u001b[38;5;241m.\u001b[39mstr\u001b[38;5;241m.\u001b[39mreplace(\u001b[38;5;124m'\u001b[39m\u001b[38;5;124mFlat/apartment\u001b[39m\u001b[38;5;124m'\u001b[39m,\u001b[38;5;124m'\u001b[39m\u001b[38;5;124mapartment\u001b[39m\u001b[38;5;124m'\u001b[39m)\u001b[38;5;241m.\u001b[39mstr\u001b[38;5;241m.\u001b[39mreplace(\u001b[38;5;124m'\u001b[39m\u001b[38;5;124mPlot/land\u001b[39m\u001b[38;5;124m'\u001b[39m,\u001b[38;5;124m'\u001b[39m\u001b[38;5;124mPlot\u001b[39m\u001b[38;5;124m'\u001b[39m)\u001b[38;5;241m.\u001b[39mstr\u001b[38;5;241m.\u001b[39mreplace(\u001b[38;5;124m'\u001b[39m\u001b[38;5;124mHouse/villa\u001b[39m\u001b[38;5;124m'\u001b[39m,\u001b[38;5;124m'\u001b[39m\u001b[38;5;124mvilla\u001b[39m\u001b[38;5;124m'\u001b[39m)\n",
      "\u001b[1;31mNameError\u001b[0m: name 'df' is not defined"
     ]
    }
   ],
   "source": [
    "df['Property_Type'] = df['Property_Type'].str.replace('Flat/apartment','apartment').str.replace('Plot/land','Plot').str.replace('House/villa','villa')"
   ]
  },
  {
   "cell_type": "markdown",
   "id": "b12079d1-aa48-4841-9db4-f99a3b9d03c2",
   "metadata": {},
   "source": [
    "# Price_in_cr"
   ]
  },
  {
   "cell_type": "code",
   "execution_count": null,
   "id": "48f53b2d-21b7-4bc9-b86d-bd749f0c9de3",
   "metadata": {},
   "outputs": [],
   "source": [
    "df['Price_in_cr'] = df['Price_in_cr'].str.replace('\\n','')"
   ]
  },
  {
   "cell_type": "code",
   "execution_count": null,
   "id": "b65f0955-3c74-416d-9171-f5806f78541b",
   "metadata": {},
   "outputs": [],
   "source": [
    "def to_crores(value):\n",
    "    if pd.isna(value):   # handle NaN safely\n",
    "        return None\n",
    "    \n",
    "    value = str(value).lower().replace(\"₹\", \"\").replace(\",\", \"\").strip()\n",
    "    \n",
    "    if \"crore\" in value:\n",
    "        num = float(value.replace(\"crores\", \"\").replace(\"crore\", \"\").strip())\n",
    "    elif \"lakh\" in value:\n",
    "        num = float(value.replace(\"lakhs\", \"\").replace(\"lakh\", \"\").strip()) / 100\n",
    "    else:\n",
    "        try:\n",
    "            num = float(value)  # in case it's already numeric\n",
    "        except:\n",
    "            return None\n",
    "    \n",
    "    # format to string with 2 decimal places\n",
    "    return f\"{num:.2f}\"\n",
    "\n",
    "# Apply to column\n",
    "df[\"Price_in_cr\"] = df[\"Price_in_cr\"].apply(to_crores)\n"
   ]
  },
  {
   "cell_type": "code",
   "execution_count": null,
   "id": "b4456485-cc17-4f24-aff0-8c126295ca21",
   "metadata": {},
   "outputs": [],
   "source": [
    "df['Property_Type'].unique()"
   ]
  },
  {
   "cell_type": "code",
   "execution_count": 8,
   "id": "23f2fad6-4263-4f2c-89b8-efa1d5d6ef44",
   "metadata": {},
   "outputs": [
    {
     "ename": "NameError",
     "evalue": "name 'df' is not defined",
     "output_type": "error",
     "traceback": [
      "\u001b[1;31m---------------------------------------------------------------------------\u001b[0m",
      "\u001b[1;31mNameError\u001b[0m                                 Traceback (most recent call last)",
      "Cell \u001b[1;32mIn[8], line 19\u001b[0m\n\u001b[0;32m     16\u001b[0m         \u001b[38;5;28;01mreturn\u001b[39;00m match\u001b[38;5;241m.\u001b[39mgroup(\u001b[38;5;241m1\u001b[39m)\u001b[38;5;241m.\u001b[39mtitle()\n\u001b[0;32m     17\u001b[0m     \u001b[38;5;28;01mreturn\u001b[39;00m \u001b[38;5;28;01mNone\u001b[39;00m\n\u001b[1;32m---> 19\u001b[0m df[\u001b[38;5;124m\"\u001b[39m\u001b[38;5;124mCity\u001b[39m\u001b[38;5;124m\"\u001b[39m] \u001b[38;5;241m=\u001b[39m df[\u001b[38;5;124m\"\u001b[39m\u001b[38;5;124mAddress\u001b[39m\u001b[38;5;124m\"\u001b[39m]\u001b[38;5;241m.\u001b[39mapply(extract_city)\n\u001b[0;32m     21\u001b[0m \u001b[38;5;66;03m# Count missing city rows\u001b[39;00m\n\u001b[0;32m     22\u001b[0m missing_city_count \u001b[38;5;241m=\u001b[39m df[\u001b[38;5;124m\"\u001b[39m\u001b[38;5;124mCity\u001b[39m\u001b[38;5;124m\"\u001b[39m]\u001b[38;5;241m.\u001b[39misna()\u001b[38;5;241m.\u001b[39msum()\n",
      "\u001b[1;31mNameError\u001b[0m: name 'df' is not defined"
     ]
    }
   ],
   "source": [
    "import pandas as pd\n",
    "import re\n",
    "\n",
    "# Load your data (assuming you read it into a DataFrame called df)\n",
    "# Example:\n",
    "# df = pd.read_csv(\"your_file.csv\", names=[\"Address\"])\n",
    "\n",
    "cities = [\"Pune\", \"Mumbai\", \"Nashik\", \"Nagpur\"]\n",
    "pattern = r\"\\b(\" + \"|\".join(cities) + r\")\\b\"\n",
    "\n",
    "def extract_city(address):\n",
    "    if not isinstance(address, str):\n",
    "        return None\n",
    "    match = re.search(pattern, address, flags=re.IGNORECASE)\n",
    "    if match:\n",
    "        return match.group(1).title()\n",
    "    return None\n",
    "\n",
    "df[\"City\"] = df[\"Address\"].apply(extract_city)\n",
    "\n",
    "# Count missing city rows\n",
    "missing_city_count = df[\"City\"].isna().sum()\n",
    "total_rows = len(df)\n",
    "\n",
    "print(\"Total rows:\", total_rows)\n",
    "print(\"Rows without city:\", missing_city_count)\n",
    "print(\"Percentage missing:\", round((missing_city_count/total_rows)*100, 2), \"%\")\n"
   ]
  },
  {
   "cell_type": "code",
   "execution_count": null,
   "id": "4b23bdb9-5c6c-476c-aee0-6cfe0008bf03",
   "metadata": {},
   "outputs": [],
   "source": [
    "df"
   ]
  },
  {
   "cell_type": "markdown",
   "id": "347e7ed2-7b73-4f36-9a7c-89ee895e72b0",
   "metadata": {},
   "source": [
    "# Extracting the Columns from Address column"
   ]
  },
  {
   "cell_type": "code",
   "execution_count": 9,
   "id": "0a21ca53-f3f8-4437-b70e-e2bf42c47107",
   "metadata": {},
   "outputs": [
    {
     "ename": "NameError",
     "evalue": "name 'df' is not defined",
     "output_type": "error",
     "traceback": [
      "\u001b[1;31m---------------------------------------------------------------------------\u001b[0m",
      "\u001b[1;31mNameError\u001b[0m                                 Traceback (most recent call last)",
      "Cell \u001b[1;32mIn[9], line 5\u001b[0m\n\u001b[0;32m      2\u001b[0m regex_gym \u001b[38;5;241m=\u001b[39m \u001b[38;5;124mr\u001b[39m\u001b[38;5;124m'\u001b[39m\u001b[38;5;124m\\\u001b[39m\u001b[38;5;124mbGym\u001b[39m\u001b[38;5;124m\\\u001b[39m\u001b[38;5;124mb\u001b[39m\u001b[38;5;124m'\u001b[39m\n\u001b[0;32m      4\u001b[0m \u001b[38;5;66;03m# Create a new column 'Gym_status'\u001b[39;00m\n\u001b[1;32m----> 5\u001b[0m df[\u001b[38;5;124m'\u001b[39m\u001b[38;5;124mGym_status\u001b[39m\u001b[38;5;124m'\u001b[39m] \u001b[38;5;241m=\u001b[39m df[\u001b[38;5;124m'\u001b[39m\u001b[38;5;124mAddress\u001b[39m\u001b[38;5;124m'\u001b[39m]\u001b[38;5;241m.\u001b[39mapply(\n\u001b[0;32m      6\u001b[0m     \u001b[38;5;28;01mlambda\u001b[39;00m x: \u001b[38;5;124m'\u001b[39m\u001b[38;5;124mGym\u001b[39m\u001b[38;5;124m'\u001b[39m \u001b[38;5;28;01mif\u001b[39;00m \u001b[38;5;28misinstance\u001b[39m(x, \u001b[38;5;28mstr\u001b[39m) \u001b[38;5;129;01mand\u001b[39;00m re\u001b[38;5;241m.\u001b[39mfindall(regex_gym, x) \u001b[38;5;28;01melse\u001b[39;00m \u001b[38;5;124m'\u001b[39m\u001b[38;5;124mNo Gym\u001b[39m\u001b[38;5;124m'\u001b[39m\n\u001b[0;32m      7\u001b[0m )\n",
      "\u001b[1;31mNameError\u001b[0m: name 'df' is not defined"
     ]
    }
   ],
   "source": [
    "# gym\n",
    "regex_gym = r'\\bGym\\b'\n",
    "\n",
    "# Create a new column 'Gym_status'\n",
    "df['Gym_status'] = df['Address'].apply(\n",
    "    lambda x: 'Gym' if isinstance(x, str) and re.findall(regex_gym, x) else 'No Gym'\n",
    ")"
   ]
  },
  {
   "cell_type": "code",
   "execution_count": null,
   "id": "3502cc7b-7f18-4630-840c-f7c2975ae850",
   "metadata": {},
   "outputs": [],
   "source": [
    "# Club House\n",
    "regex_club = r'\\bClub House\\b'\n",
    "\n",
    "# Create a new column 'Club_House_status'\n",
    "df['Club_House_status'] = df['Address'].apply(\n",
    "    lambda x: 'Club House' if isinstance(x, str) and re.findall(regex_club, x) else 'No Club House'\n",
    ")"
   ]
  },
  {
   "cell_type": "code",
   "execution_count": 10,
   "id": "cb24536c-7f1e-4297-bac1-2e4cc8a81729",
   "metadata": {},
   "outputs": [
    {
     "ename": "NameError",
     "evalue": "name 'df' is not defined",
     "output_type": "error",
     "traceback": [
      "\u001b[1;31m---------------------------------------------------------------------------\u001b[0m",
      "\u001b[1;31mNameError\u001b[0m                                 Traceback (most recent call last)",
      "Cell \u001b[1;32mIn[10], line 5\u001b[0m\n\u001b[0;32m      2\u001b[0m regex_lift \u001b[38;5;241m=\u001b[39m \u001b[38;5;124mr\u001b[39m\u001b[38;5;124m'\u001b[39m\u001b[38;5;124m\\\u001b[39m\u001b[38;5;124mbLift\u001b[39m\u001b[38;5;124m\\\u001b[39m\u001b[38;5;124mb\u001b[39m\u001b[38;5;124m'\u001b[39m\n\u001b[0;32m      4\u001b[0m \u001b[38;5;66;03m# Create a new column 'Lift_status'\u001b[39;00m\n\u001b[1;32m----> 5\u001b[0m df[\u001b[38;5;124m'\u001b[39m\u001b[38;5;124mLift_status\u001b[39m\u001b[38;5;124m'\u001b[39m] \u001b[38;5;241m=\u001b[39m df[\u001b[38;5;124m'\u001b[39m\u001b[38;5;124mAddress\u001b[39m\u001b[38;5;124m'\u001b[39m]\u001b[38;5;241m.\u001b[39mapply(\n\u001b[0;32m      6\u001b[0m     \u001b[38;5;28;01mlambda\u001b[39;00m x: \u001b[38;5;124m'\u001b[39m\u001b[38;5;124mLift\u001b[39m\u001b[38;5;124m'\u001b[39m \u001b[38;5;28;01mif\u001b[39;00m \u001b[38;5;28misinstance\u001b[39m(x, \u001b[38;5;28mstr\u001b[39m) \u001b[38;5;129;01mand\u001b[39;00m re\u001b[38;5;241m.\u001b[39mfindall(regex_lift, x) \u001b[38;5;28;01melse\u001b[39;00m \u001b[38;5;124m'\u001b[39m\u001b[38;5;124mNo Lift\u001b[39m\u001b[38;5;124m'\u001b[39m\n\u001b[0;32m      7\u001b[0m )\n",
      "\u001b[1;31mNameError\u001b[0m: name 'df' is not defined"
     ]
    }
   ],
   "source": [
    "# Lift\n",
    "regex_lift = r'\\bLift\\b'\n",
    "\n",
    "# Create a new column 'Lift_status'\n",
    "df['Lift_status'] = df['Address'].apply(\n",
    "    lambda x: 'Lift' if isinstance(x, str) and re.findall(regex_lift, x) else 'No Lift'\n",
    ")"
   ]
  },
  {
   "cell_type": "code",
   "execution_count": null,
   "id": "7b4ce4e7-f72f-4e2a-a4c3-83a2b0f166f9",
   "metadata": {},
   "outputs": [],
   "source": [
    "# Swimming Pool\n",
    "regex_pool = r'\\bSwimming Pool\\b'\n",
    "\n",
    "# Create a new column 'Swimming_Pool_status'\n",
    "df['Swimming_Pool_status'] = df['Address'].apply(\n",
    "    lambda x: 'Swimming Pool' if isinstance(x, str) and re.findall(regex_pool, x) else 'No Swimming Pool'\n",
    ")"
   ]
  },
  {
   "cell_type": "code",
   "execution_count": 11,
   "id": "e1c9866d-85c6-415f-af28-f605f48384e9",
   "metadata": {},
   "outputs": [
    {
     "ename": "NameError",
     "evalue": "name 'df' is not defined",
     "output_type": "error",
     "traceback": [
      "\u001b[1;31m---------------------------------------------------------------------------\u001b[0m",
      "\u001b[1;31mNameError\u001b[0m                                 Traceback (most recent call last)",
      "Cell \u001b[1;32mIn[11], line 14\u001b[0m\n\u001b[0;32m     11\u001b[0m         \u001b[38;5;28;01mreturn\u001b[39;00m match\u001b[38;5;241m.\u001b[39mgroup(\u001b[38;5;241m1\u001b[39m)\u001b[38;5;241m.\u001b[39mtitle()   \u001b[38;5;66;03m# normalize capitalization\u001b[39;00m\n\u001b[0;32m     12\u001b[0m     \u001b[38;5;28;01mreturn\u001b[39;00m \u001b[38;5;28;01mNone\u001b[39;00m\n\u001b[1;32m---> 14\u001b[0m df[\u001b[38;5;124m\"\u001b[39m\u001b[38;5;124mCity\u001b[39m\u001b[38;5;124m\"\u001b[39m] \u001b[38;5;241m=\u001b[39m df[\u001b[38;5;124m\"\u001b[39m\u001b[38;5;124mAddress\u001b[39m\u001b[38;5;124m\"\u001b[39m]\u001b[38;5;241m.\u001b[39mapply(extract_city)\n",
      "\u001b[1;31mNameError\u001b[0m: name 'df' is not defined"
     ]
    }
   ],
   "source": [
    "cities = [\"Pune\", \"Mumbai\", \"Nashik\", \"Nagpur\"]\n",
    "\n",
    "# Regex pattern to capture city names\n",
    "pattern = r\"\\b(\" + \"|\".join(cities) + r\")\\b\"\n",
    "\n",
    "def extract_city(address):\n",
    "    if not isinstance(address, str):\n",
    "        return None\n",
    "    match = re.search(pattern, address, flags=re.IGNORECASE)\n",
    "    if match:\n",
    "        return match.group(1).title()   # normalize capitalization\n",
    "    return None\n",
    "\n",
    "df[\"City\"] = df[\"Address\"].apply(extract_city)"
   ]
  },
  {
   "cell_type": "markdown",
   "id": "d7589ee8-8060-434a-a2aa-bc665fc3ba8d",
   "metadata": {},
   "source": [
    "# Checking for null values"
   ]
  },
  {
   "cell_type": "code",
   "execution_count": null,
   "id": "8b6dc093-af4d-4b40-94b2-61b86bd8fd8c",
   "metadata": {},
   "outputs": [],
   "source": [
    "df.isna().sum()"
   ]
  },
  {
   "cell_type": "code",
   "execution_count": null,
   "id": "1d4bc3c6-ea11-464c-b5f1-4511e4b1fa06",
   "metadata": {},
   "outputs": [],
   "source": [
    "df.shape"
   ]
  },
  {
   "cell_type": "markdown",
   "id": "0ce27898-9fcf-409c-9b11-6d5225569610",
   "metadata": {},
   "source": [
    "# Droaping the null value columns"
   ]
  },
  {
   "cell_type": "code",
   "execution_count": 12,
   "id": "26df585e-8d07-4f88-bf3e-8a4a4236c439",
   "metadata": {},
   "outputs": [
    {
     "ename": "NameError",
     "evalue": "name 'df' is not defined",
     "output_type": "error",
     "traceback": [
      "\u001b[1;31m---------------------------------------------------------------------------\u001b[0m",
      "\u001b[1;31mNameError\u001b[0m                                 Traceback (most recent call last)",
      "Cell \u001b[1;32mIn[12], line 1\u001b[0m\n\u001b[1;32m----> 1\u001b[0m df \u001b[38;5;241m=\u001b[39m df\u001b[38;5;241m.\u001b[39mdropna()\n",
      "\u001b[1;31mNameError\u001b[0m: name 'df' is not defined"
     ]
    }
   ],
   "source": [
    "df = df.dropna()"
   ]
  },
  {
   "cell_type": "code",
   "execution_count": null,
   "id": "11fff4bf-535e-4dfb-b76f-bea0cf673378",
   "metadata": {},
   "outputs": [],
   "source": [
    "df.isna().sum()"
   ]
  },
  {
   "cell_type": "code",
   "execution_count": 13,
   "id": "5375f692-5b05-4af1-8db0-a5919407b69d",
   "metadata": {},
   "outputs": [
    {
     "ename": "NameError",
     "evalue": "name 'df' is not defined",
     "output_type": "error",
     "traceback": [
      "\u001b[1;31m---------------------------------------------------------------------------\u001b[0m",
      "\u001b[1;31mNameError\u001b[0m                                 Traceback (most recent call last)",
      "Cell \u001b[1;32mIn[13], line 1\u001b[0m\n\u001b[1;32m----> 1\u001b[0m df\u001b[38;5;241m.\u001b[39mshape\n",
      "\u001b[1;31mNameError\u001b[0m: name 'df' is not defined"
     ]
    }
   ],
   "source": [
    "df.shape"
   ]
  },
  {
   "cell_type": "markdown",
   "id": "52580469-8179-423f-8344-c7857d9c5ddd",
   "metadata": {},
   "source": [
    "# Checking the Number of unique values"
   ]
  },
  {
   "cell_type": "code",
   "execution_count": 14,
   "id": "64e00e38-51ec-4c49-8948-67ea4f0df5b3",
   "metadata": {},
   "outputs": [
    {
     "ename": "NameError",
     "evalue": "name 'df' is not defined",
     "output_type": "error",
     "traceback": [
      "\u001b[1;31m---------------------------------------------------------------------------\u001b[0m",
      "\u001b[1;31mNameError\u001b[0m                                 Traceback (most recent call last)",
      "Cell \u001b[1;32mIn[14], line 1\u001b[0m\n\u001b[1;32m----> 1\u001b[0m df\u001b[38;5;241m.\u001b[39mnunique()\n",
      "\u001b[1;31mNameError\u001b[0m: name 'df' is not defined"
     ]
    }
   ],
   "source": [
    "df.nunique()"
   ]
  },
  {
   "cell_type": "markdown",
   "id": "32f1ee70-9239-44ed-8532-047c33a1971a",
   "metadata": {},
   "source": [
    "# Checking the Data Types"
   ]
  },
  {
   "cell_type": "code",
   "execution_count": 15,
   "id": "8504cd3c-a194-4bac-9cd2-05c2ac904b0e",
   "metadata": {},
   "outputs": [
    {
     "ename": "NameError",
     "evalue": "name 'df' is not defined",
     "output_type": "error",
     "traceback": [
      "\u001b[1;31m---------------------------------------------------------------------------\u001b[0m",
      "\u001b[1;31mNameError\u001b[0m                                 Traceback (most recent call last)",
      "Cell \u001b[1;32mIn[15], line 1\u001b[0m\n\u001b[1;32m----> 1\u001b[0m df\u001b[38;5;241m.\u001b[39minfo()\n",
      "\u001b[1;31mNameError\u001b[0m: name 'df' is not defined"
     ]
    }
   ],
   "source": [
    "df.info()"
   ]
  },
  {
   "cell_type": "markdown",
   "id": "5c1b1e18-6a13-4508-bc3a-1b99ac59cd4d",
   "metadata": {},
   "source": [
    "# Converting the data types"
   ]
  },
  {
   "cell_type": "code",
   "execution_count": 16,
   "id": "694de6b9-d6a3-44c5-b43b-e84e7be651b7",
   "metadata": {},
   "outputs": [
    {
     "ename": "NameError",
     "evalue": "name 'df' is not defined",
     "output_type": "error",
     "traceback": [
      "\u001b[1;31m---------------------------------------------------------------------------\u001b[0m",
      "\u001b[1;31mNameError\u001b[0m                                 Traceback (most recent call last)",
      "Cell \u001b[1;32mIn[16], line 1\u001b[0m\n\u001b[1;32m----> 1\u001b[0m df[\u001b[38;5;124m'\u001b[39m\u001b[38;5;124mSize/Square\u001b[39m\u001b[38;5;124m'\u001b[39m] \u001b[38;5;241m=\u001b[39m df[\u001b[38;5;124m'\u001b[39m\u001b[38;5;124mSize/Square\u001b[39m\u001b[38;5;124m'\u001b[39m]\u001b[38;5;241m.\u001b[39mastype(\u001b[38;5;28mint\u001b[39m)\n",
      "\u001b[1;31mNameError\u001b[0m: name 'df' is not defined"
     ]
    }
   ],
   "source": [
    "df['Size/Square'] = df['Size/Square'].astype(int)"
   ]
  },
  {
   "cell_type": "code",
   "execution_count": 17,
   "id": "6fdd91d4-5759-40f3-9de7-96badfc63422",
   "metadata": {},
   "outputs": [
    {
     "ename": "NameError",
     "evalue": "name 'df' is not defined",
     "output_type": "error",
     "traceback": [
      "\u001b[1;31m---------------------------------------------------------------------------\u001b[0m",
      "\u001b[1;31mNameError\u001b[0m                                 Traceback (most recent call last)",
      "Cell \u001b[1;32mIn[17], line 1\u001b[0m\n\u001b[1;32m----> 1\u001b[0m df[\u001b[38;5;124m'\u001b[39m\u001b[38;5;124mPrice_per_sq\u001b[39m\u001b[38;5;124m'\u001b[39m] \u001b[38;5;241m=\u001b[39m df[\u001b[38;5;124m'\u001b[39m\u001b[38;5;124mPrice_per_sq\u001b[39m\u001b[38;5;124m'\u001b[39m]\u001b[38;5;241m.\u001b[39mastype(\u001b[38;5;28mint\u001b[39m)\n",
      "\u001b[1;31mNameError\u001b[0m: name 'df' is not defined"
     ]
    }
   ],
   "source": [
    "df['Price_per_sq'] = df['Price_per_sq'].astype(int)"
   ]
  },
  {
   "cell_type": "code",
   "execution_count": 18,
   "id": "741a746b-8657-4069-abf3-20d0b09c355c",
   "metadata": {},
   "outputs": [
    {
     "ename": "NameError",
     "evalue": "name 'df' is not defined",
     "output_type": "error",
     "traceback": [
      "\u001b[1;31m---------------------------------------------------------------------------\u001b[0m",
      "\u001b[1;31mNameError\u001b[0m                                 Traceback (most recent call last)",
      "Cell \u001b[1;32mIn[18], line 1\u001b[0m\n\u001b[1;32m----> 1\u001b[0m df[\u001b[38;5;124m'\u001b[39m\u001b[38;5;124mPrice_in_cr\u001b[39m\u001b[38;5;124m'\u001b[39m] \u001b[38;5;241m=\u001b[39m df[\u001b[38;5;124m'\u001b[39m\u001b[38;5;124mPrice_in_cr\u001b[39m\u001b[38;5;124m'\u001b[39m]\u001b[38;5;241m.\u001b[39mastype(\u001b[38;5;28mfloat\u001b[39m)\n",
      "\u001b[1;31mNameError\u001b[0m: name 'df' is not defined"
     ]
    }
   ],
   "source": [
    "df['Price_in_cr'] = df['Price_in_cr'].astype(float)"
   ]
  },
  {
   "cell_type": "code",
   "execution_count": 19,
   "id": "73680075-453e-4c09-b90e-1ed3818122c2",
   "metadata": {},
   "outputs": [
    {
     "ename": "NameError",
     "evalue": "name 'df' is not defined",
     "output_type": "error",
     "traceback": [
      "\u001b[1;31m---------------------------------------------------------------------------\u001b[0m",
      "\u001b[1;31mNameError\u001b[0m                                 Traceback (most recent call last)",
      "Cell \u001b[1;32mIn[19], line 1\u001b[0m\n\u001b[1;32m----> 1\u001b[0m df[\u001b[38;5;124m'\u001b[39m\u001b[38;5;124mCity\u001b[39m\u001b[38;5;124m'\u001b[39m]\u001b[38;5;241m.\u001b[39munique()\n",
      "\u001b[1;31mNameError\u001b[0m: name 'df' is not defined"
     ]
    }
   ],
   "source": [
    "df['City'].unique()"
   ]
  },
  {
   "cell_type": "markdown",
   "id": "6d4cb030-8a6f-48e2-8fd1-99fd26366134",
   "metadata": {},
   "source": [
    "### Rechecking the data types"
   ]
  },
  {
   "cell_type": "code",
   "execution_count": 20,
   "id": "e109a340-5bb5-4863-a358-5f72d6d5bd3a",
   "metadata": {},
   "outputs": [
    {
     "ename": "NameError",
     "evalue": "name 'df' is not defined",
     "output_type": "error",
     "traceback": [
      "\u001b[1;31m---------------------------------------------------------------------------\u001b[0m",
      "\u001b[1;31mNameError\u001b[0m                                 Traceback (most recent call last)",
      "Cell \u001b[1;32mIn[20], line 1\u001b[0m\n\u001b[1;32m----> 1\u001b[0m df\u001b[38;5;241m.\u001b[39minfo()\n",
      "\u001b[1;31mNameError\u001b[0m: name 'df' is not defined"
     ]
    }
   ],
   "source": [
    "df.info()"
   ]
  },
  {
   "cell_type": "code",
   "execution_count": 21,
   "id": "871e72df-6728-4ab0-a9c7-1ec3e66be7be",
   "metadata": {},
   "outputs": [
    {
     "ename": "NameError",
     "evalue": "name 'df' is not defined",
     "output_type": "error",
     "traceback": [
      "\u001b[1;31m---------------------------------------------------------------------------\u001b[0m",
      "\u001b[1;31mNameError\u001b[0m                                 Traceback (most recent call last)",
      "Cell \u001b[1;32mIn[21], line 1\u001b[0m\n\u001b[1;32m----> 1\u001b[0m df\u001b[38;5;241m.\u001b[39mduplicated()\u001b[38;5;241m.\u001b[39msum()\n",
      "\u001b[1;31mNameError\u001b[0m: name 'df' is not defined"
     ]
    }
   ],
   "source": [
    "df.duplicated().sum()"
   ]
  },
  {
   "cell_type": "code",
   "execution_count": 256,
   "id": "6e706db2-566f-4488-832f-d8d6d5f941c7",
   "metadata": {},
   "outputs": [],
   "source": [
    "# Remove duplicate rows\n",
    "df = df.drop_duplicates()"
   ]
  },
  {
   "cell_type": "markdown",
   "id": "eb0124b6-6376-4f8a-97c5-1c350450420a",
   "metadata": {},
   "source": [
    "# Saving the cleaned df in the CSV format"
   ]
  },
  {
   "cell_type": "code",
   "execution_count": 258,
   "id": "ca8c5354-0f8f-41cb-8d22-f6e7f90a2ca4",
   "metadata": {},
   "outputs": [],
   "source": [
    "df.to_csv(\"House_1.csv\",index = False)"
   ]
  },
  {
   "cell_type": "code",
   "execution_count": null,
   "id": "a0118c26-6dde-40e3-b1b1-9d0935e8a23d",
   "metadata": {},
   "outputs": [],
   "source": []
  },
  {
   "cell_type": "code",
   "execution_count": null,
   "id": "5265866b-186a-4950-b9bf-c39378ec44a2",
   "metadata": {},
   "outputs": [],
   "source": []
  },
  {
   "cell_type": "code",
   "execution_count": null,
   "id": "66b15049-18d5-40c5-b631-cc96c1cdc3b9",
   "metadata": {},
   "outputs": [],
   "source": []
  },
  {
   "cell_type": "code",
   "execution_count": null,
   "id": "ff654217-29ed-4581-ae0e-ec365aa6aa7e",
   "metadata": {},
   "outputs": [],
   "source": []
  },
  {
   "cell_type": "code",
   "execution_count": null,
   "id": "d6b274c8-f168-47fe-8376-c03073cc6298",
   "metadata": {},
   "outputs": [],
   "source": []
  },
  {
   "cell_type": "code",
   "execution_count": null,
   "id": "b0f47f76-0524-4036-b7b8-f6e54a200bca",
   "metadata": {},
   "outputs": [],
   "source": []
  },
  {
   "cell_type": "code",
   "execution_count": null,
   "id": "b87e606c-2657-49e4-871b-eb290d51bfba",
   "metadata": {},
   "outputs": [],
   "source": []
  },
  {
   "cell_type": "code",
   "execution_count": null,
   "id": "c8b08f95-1e56-4a7f-8ffa-0f3029367844",
   "metadata": {},
   "outputs": [],
   "source": []
  },
  {
   "cell_type": "code",
   "execution_count": null,
   "id": "8e9c9f41-b3ce-4f1b-88e3-ac5498a7c235",
   "metadata": {},
   "outputs": [],
   "source": []
  },
  {
   "cell_type": "code",
   "execution_count": null,
   "id": "3b19417a-f60a-480f-a93c-a005162b6be5",
   "metadata": {},
   "outputs": [],
   "source": []
  }
 ],
 "metadata": {
  "kernelspec": {
   "display_name": "Python [conda env:base] *",
   "language": "python",
   "name": "conda-base-py"
  },
  "language_info": {
   "codemirror_mode": {
    "name": "ipython",
    "version": 3
   },
   "file_extension": ".py",
   "mimetype": "text/x-python",
   "name": "python",
   "nbconvert_exporter": "python",
   "pygments_lexer": "ipython3",
   "version": "3.12.7"
  }
 },
 "nbformat": 4,
 "nbformat_minor": 5
}
